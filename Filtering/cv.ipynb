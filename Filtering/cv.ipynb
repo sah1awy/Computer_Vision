{
 "cells": [
  {
   "cell_type": "code",
   "execution_count": 1,
   "id": "b6ca4a73",
   "metadata": {},
   "outputs": [],
   "source": [
    "import cv2 as cv"
   ]
  },
  {
   "cell_type": "code",
   "execution_count": 2,
   "id": "b807e8b1",
   "metadata": {},
   "outputs": [
    {
     "data": {
      "text/plain": [
       "numpy.ndarray"
      ]
     },
     "execution_count": 2,
     "metadata": {},
     "output_type": "execute_result"
    }
   ],
   "source": [
    "img = cv.imread(\"Teletubbies.jpg\")\n",
    "type(img)"
   ]
  },
  {
   "cell_type": "code",
   "execution_count": 3,
   "id": "3ce7499f-3b72-4675-8e9f-5ce629fd62a8",
   "metadata": {},
   "outputs": [
    {
     "data": {
      "text/plain": [
       "array([[[ 62,  47,  21],\n",
       "        [ 42,  27,   1],\n",
       "        [ 44,  27,   1],\n",
       "        ...,\n",
       "        [ 59,  41,   4],\n",
       "        [ 61,  43,   6],\n",
       "        [ 61,  43,   6]],\n",
       "\n",
       "       [[155, 141, 113],\n",
       "        [138, 122,  93],\n",
       "        [137, 120,  93],\n",
       "        ...,\n",
       "        [127, 109,  68],\n",
       "        [126, 106,  65],\n",
       "        [124, 106,  65]],\n",
       "\n",
       "       [[172, 157, 124],\n",
       "        [155, 141, 105],\n",
       "        [153, 136, 103],\n",
       "        ...,\n",
       "        [134, 111,  65],\n",
       "        [142, 118,  72],\n",
       "        [141, 118,  72]],\n",
       "\n",
       "       ...,\n",
       "\n",
       "       [[ 55, 175, 151],\n",
       "        [ 11, 131, 107],\n",
       "        [ 12, 132, 108],\n",
       "        ...,\n",
       "        [  6, 110,  99],\n",
       "        [ 10, 115, 102],\n",
       "        [ 19, 124, 109]],\n",
       "\n",
       "       [[ 56, 176, 152],\n",
       "        [ 12, 132, 108],\n",
       "        [ 12, 132, 108],\n",
       "        ...,\n",
       "        [ 13, 117, 106],\n",
       "        [ 22, 127, 114],\n",
       "        [ 34, 139, 124]],\n",
       "\n",
       "       [[ 56, 176, 152],\n",
       "        [ 12, 132, 108],\n",
       "        [ 13, 133, 109],\n",
       "        ...,\n",
       "        [ 23, 127, 116],\n",
       "        [ 22, 127, 114],\n",
       "        [ 36, 141, 126]]], dtype=uint8)"
      ]
     },
     "execution_count": 3,
     "metadata": {},
     "output_type": "execute_result"
    }
   ],
   "source": [
    "# RGB BGR \n",
    "img"
   ]
  },
  {
   "cell_type": "code",
   "execution_count": 4,
   "id": "81615d87-30dd-46eb-b527-dea305325dd4",
   "metadata": {},
   "outputs": [
    {
     "data": {
      "text/plain": [
       "(208, 242, 3)"
      ]
     },
     "execution_count": 4,
     "metadata": {},
     "output_type": "execute_result"
    }
   ],
   "source": [
    "img.shape"
   ]
  },
  {
   "cell_type": "code",
   "execution_count": 5,
   "id": "5df8d30f-a7cb-4396-8d54-d3d5ce5de0ad",
   "metadata": {},
   "outputs": [],
   "source": [
    "cv.imshow('New Image',img,)\n",
    "while True:\n",
    "    k = cv.waitKey(1) & 0xFF\n",
    "    if k == 27:\n",
    "        break\n",
    "cv.destroyAllWindows()"
   ]
  },
  {
   "cell_type": "code",
   "execution_count": 6,
   "id": "876b7a2f-25c6-4a9c-bf22-bb8e5c969daf",
   "metadata": {},
   "outputs": [],
   "source": [
    "gray = cv.cvtColor(img,cv.COLOR_BGR2GRAY)\n",
    "cv.imshow(\"Gray\",gray)\n",
    "while True:\n",
    "    k = cv.waitKey(1) & 0xFF\n",
    "    if k == 27:\n",
    "        break\n",
    "cv.destroyAllWindows()"
   ]
  },
  {
   "cell_type": "code",
   "execution_count": 7,
   "id": "617b8dd5-6ba6-46b2-aa33-5fb941055deb",
   "metadata": {},
   "outputs": [
    {
     "data": {
      "text/plain": [
       "(208, 242)"
      ]
     },
     "execution_count": 7,
     "metadata": {},
     "output_type": "execute_result"
    }
   ],
   "source": [
    "gray.shape"
   ]
  },
  {
   "cell_type": "code",
   "execution_count": 8,
   "id": "1ad2a907-c651-45a1-b3e7-26b270b4ede6",
   "metadata": {},
   "outputs": [
    {
     "data": {
      "text/plain": [
       "array([[ 41,  21,  21, ...,  32,  34,  34],\n",
       "       [134, 115, 114, ...,  99,  96,  96],\n",
       "       [149, 132, 128, ..., 100, 107, 107],\n",
       "       ...,\n",
       "       [154, 110, 111, ...,  95,  99, 108],\n",
       "       [155, 111, 111, ..., 102, 111, 123],\n",
       "       [155, 111, 112, ..., 112, 111, 125]], dtype=uint8)"
      ]
     },
     "execution_count": 8,
     "metadata": {},
     "output_type": "execute_result"
    }
   ],
   "source": [
    "gray"
   ]
  },
  {
   "cell_type": "code",
   "execution_count": 9,
   "id": "1660551d-fbd2-40b4-b7bd-ea303e8a41ce",
   "metadata": {},
   "outputs": [],
   "source": [
    "blur = cv.GaussianBlur(img,(11,11),cv.BORDER_DEFAULT)\n",
    "cv.imshow(\"Blur\",blur)\n",
    "while True:\n",
    "    k = cv.waitKey(1) & 0xFF\n",
    "    if k == 27:\n",
    "        break\n",
    "cv.destroyAllWindows()"
   ]
  },
  {
   "cell_type": "code",
   "execution_count": 10,
   "id": "6607a270-0b87-4298-9e5a-7381f147e723",
   "metadata": {},
   "outputs": [],
   "source": [
    "cv.imshow(\"Blur\",blur)\n",
    "cv.waitKey(0)\n",
    "cv.destroyAllWindows()"
   ]
  },
  {
   "cell_type": "code",
   "execution_count": 11,
   "id": "4da1cbb6-c9e3-4bd4-bd7d-dd580c5cf90f",
   "metadata": {},
   "outputs": [],
   "source": [
    "im = img.copy()"
   ]
  },
  {
   "cell_type": "code",
   "execution_count": 12,
   "id": "183f0b34-bf16-4128-93f5-a526b9cb35fd",
   "metadata": {},
   "outputs": [],
   "source": [
    "im[:150,:150] = cv.GaussianBlur(im[:150,:150],(11,11),cv.BORDER_DEFAULT)\n",
    "cv.imshow(\"Partially Blurred\",im)\n",
    "cv.waitKey(0)\n",
    "cv.destroyAllWindows()"
   ]
  },
  {
   "cell_type": "code",
   "execution_count": 13,
   "id": "be44572c-c0cb-4b10-93c4-5786535bb60e",
   "metadata": {},
   "outputs": [],
   "source": [
    "canny1 = cv.Canny(blur,100,100)\n",
    "cv.imshow(\"Canny\",canny1)\n",
    "cv.waitKey(0)\n",
    "cv.destroyAllWindows()"
   ]
  },
  {
   "cell_type": "code",
   "execution_count": 14,
   "id": "e7a3b9fa-1337-43eb-a386-5f6f720bc3a9",
   "metadata": {},
   "outputs": [],
   "source": [
    "canny2 = cv.Canny(blur,20,20)\n",
    "cv.imshow(\"Canny\",canny2)\n",
    "cv.waitKey(0)\n",
    "cv.destroyAllWindows()"
   ]
  },
  {
   "cell_type": "code",
   "execution_count": 15,
   "id": "bb2d3b7e-2580-41b3-a178-3a89bd142ccd",
   "metadata": {},
   "outputs": [],
   "source": [
    "dilated = cv.dilate(canny1,(3,3),iterations=3)\n",
    "cv.imshow(\"Dilated\",dilated)\n",
    "cv.waitKey(0)\n",
    "cv.destroyAllWindows()"
   ]
  },
  {
   "cell_type": "code",
   "execution_count": 16,
   "id": "1edb0efa-0803-42b1-973d-13fad8039034",
   "metadata": {},
   "outputs": [],
   "source": [
    "# 3x3 kernel will consider the 3x3 neighborhood around each pixel, and for each pixel, the maximum value within this neighborhood will be selected.\n",
    "dilated = cv.dilate(canny1,(50,50),iterations=3)\n",
    "cv.imshow(\"Dilated\",dilated)\n",
    "cv.waitKey(0)\n",
    "cv.destroyAllWindows()"
   ]
  },
  {
   "cell_type": "code",
   "execution_count": 17,
   "id": "56e6424b-73b4-41f3-886d-ed5210e0d4d8",
   "metadata": {},
   "outputs": [],
   "source": [
    "# Erosion works by shrinking or thinning the boundaries of objects in an image. It involves sliding a structuring element (kernel)\n",
    "#over the image, and for each pixel under the kernel, replacing its intensity value with the minimum value\n",
    "eroded = cv.erode(dilated,(3,3),iterations=3)\n",
    "cv.imshow(\"Eroding\",eroded)\n",
    "cv.waitKey(0)\n",
    "cv.destroyAllWindows()"
   ]
  },
  {
   "cell_type": "code",
   "execution_count": 18,
   "id": "33ac091f-0c59-467a-abc8-f042e0a5f487",
   "metadata": {},
   "outputs": [],
   "source": [
    "b,g,r = cv.split(img)"
   ]
  },
  {
   "cell_type": "code",
   "execution_count": 19,
   "id": "c2b09bd5-1221-48dc-8634-c1b9fd48b9e8",
   "metadata": {},
   "outputs": [
    {
     "data": {
      "text/plain": [
       "array([[ 62,  42,  44, ...,  59,  61,  61],\n",
       "       [155, 138, 137, ..., 127, 126, 124],\n",
       "       [172, 155, 153, ..., 134, 142, 141],\n",
       "       ...,\n",
       "       [ 55,  11,  12, ...,   6,  10,  19],\n",
       "       [ 56,  12,  12, ...,  13,  22,  34],\n",
       "       [ 56,  12,  13, ...,  23,  22,  36]], dtype=uint8)"
      ]
     },
     "execution_count": 19,
     "metadata": {},
     "output_type": "execute_result"
    }
   ],
   "source": [
    "b"
   ]
  },
  {
   "cell_type": "code",
   "execution_count": 20,
   "id": "a7270c41-49f0-4592-9187-882e4feff530",
   "metadata": {},
   "outputs": [
    {
     "data": {
      "text/plain": [
       "array([[ 47,  27,  27, ...,  41,  43,  43],\n",
       "       [141, 122, 120, ..., 109, 106, 106],\n",
       "       [157, 141, 136, ..., 111, 118, 118],\n",
       "       ...,\n",
       "       [175, 131, 132, ..., 110, 115, 124],\n",
       "       [176, 132, 132, ..., 117, 127, 139],\n",
       "       [176, 132, 133, ..., 127, 127, 141]], dtype=uint8)"
      ]
     },
     "execution_count": 20,
     "metadata": {},
     "output_type": "execute_result"
    }
   ],
   "source": [
    "g"
   ]
  },
  {
   "cell_type": "code",
   "execution_count": 21,
   "id": "b104e24b-3e52-4909-8ea3-3ebd3c929ee2",
   "metadata": {},
   "outputs": [
    {
     "data": {
      "text/plain": [
       "array([[ 21,   1,   1, ...,   4,   6,   6],\n",
       "       [113,  93,  93, ...,  68,  65,  65],\n",
       "       [124, 105, 103, ...,  65,  72,  72],\n",
       "       ...,\n",
       "       [151, 107, 108, ...,  99, 102, 109],\n",
       "       [152, 108, 108, ..., 106, 114, 124],\n",
       "       [152, 108, 109, ..., 116, 114, 126]], dtype=uint8)"
      ]
     },
     "execution_count": 21,
     "metadata": {},
     "output_type": "execute_result"
    }
   ],
   "source": [
    "r"
   ]
  },
  {
   "cell_type": "code",
   "execution_count": 22,
   "id": "0a1a3908-79ac-4b50-8131-929e18c3883d",
   "metadata": {},
   "outputs": [],
   "source": [
    "cv.imshow(\"Blue\",b)\n",
    "cv.waitKey(0)\n",
    "cv.destroyAllWindows()"
   ]
  },
  {
   "cell_type": "code",
   "execution_count": 23,
   "id": "4d88c676-1df2-4696-a93f-a65a48ea51f9",
   "metadata": {},
   "outputs": [],
   "source": [
    "cv.imshow(\"Green\",g)\n",
    "cv.waitKey(0)\n",
    "cv.destroyAllWindows()"
   ]
  },
  {
   "cell_type": "code",
   "execution_count": 24,
   "id": "523119c0-0b8f-472d-8973-17687826fda3",
   "metadata": {},
   "outputs": [],
   "source": [
    "cv.imshow(\"Red\",r)\n",
    "cv.waitKey(0)\n",
    "cv.destroyAllWindows()"
   ]
  },
  {
   "cell_type": "code",
   "execution_count": 25,
   "id": "e4fe6fed-26d9-493d-a996-5ffa694b032f",
   "metadata": {},
   "outputs": [],
   "source": [
    "# When cv.BORDER_CONSTANT is used, the border pixels are filled with a constant value specified by the value parameter\n",
    "const = cv.copyMakeBorder(img,10,20,5,10,cv.BORDER_CONSTANT,value=(120,125,160))\n",
    "cv.imshow(\"Border\",const)\n",
    "cv.waitKey(0)\n",
    "cv.destroyAllWindows()"
   ]
  },
  {
   "cell_type": "code",
   "execution_count": 26,
   "id": "8e85e618-de8d-4aaf-b239-99ddd5e9fb15",
   "metadata": {},
   "outputs": [],
   "source": [
    "dst = cv.addWeighted(img,0.7,blur,0.2,0)\n",
    "cv.imshow(\"Weighted\",dst)\n",
    "cv.waitKey(0)\n",
    "cv.destroyAllWindows()"
   ]
  },
  {
   "cell_type": "code",
   "execution_count": 27,
   "id": "fe37fbdf-3cdd-4cb5-8052-7146dbfe8219",
   "metadata": {},
   "outputs": [],
   "source": [
    "resized = cv.resize(img,(512,512),interpolation=cv.INTER_CUBIC)\n",
    "cv.imshow(\"Resized\",resized)\n",
    "cv.waitKey(0)\n",
    "cv.destroyAllWindows()"
   ]
  },
  {
   "cell_type": "code",
   "execution_count": 31,
   "id": "ecd6c82d-7eba-4e2b-bc1f-97c6938b3b97",
   "metadata": {},
   "outputs": [],
   "source": [
    "#Cropping\n",
    "cropped = img[100:,50:]\n",
    "cv.imshow(\"Cropped\",cropped)\n",
    "cv.waitKey(0)\n",
    "cv.destroyAllWindows()"
   ]
  },
  {
   "cell_type": "code",
   "execution_count": null,
   "id": "2589ed38-9d04-43a9-948e-370e8d57f45b",
   "metadata": {},
   "outputs": [],
   "source": []
  }
 ],
 "metadata": {
  "kernelspec": {
   "display_name": "Python 3 (ipykernel)",
   "language": "python",
   "name": "python3"
  },
  "language_info": {
   "codemirror_mode": {
    "name": "ipython",
    "version": 3
   },
   "file_extension": ".py",
   "mimetype": "text/x-python",
   "name": "python",
   "nbconvert_exporter": "python",
   "pygments_lexer": "ipython3",
   "version": "3.10.13"
  }
 },
 "nbformat": 4,
 "nbformat_minor": 5
}
